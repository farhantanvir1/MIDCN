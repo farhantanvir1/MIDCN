{
  "nbformat": 4,
  "nbformat_minor": 0,
  "metadata": {
    "colab": {
      "name": "costco_demo.ipynb",
      "provenance": [],
      "include_colab_link": true
    },
    "kernelspec": {
      "name": "python2",
      "display_name": "Python 2"
    },
    "accelerator": "GPU"
  },
  "cells": [
    {
      "cell_type": "markdown",
      "metadata": {
        "id": "view-in-github",
        "colab_type": "text"
      },
      "source": [
        "<a href=\"https://colab.research.google.com/github/farhantanvir1/MIDCN/blob/main/costco_demo.ipynb\" target=\"_parent\"><img src=\"https://colab.research.google.com/assets/colab-badge.svg\" alt=\"Open In Colab\"/></a>"
      ]
    },
    {
      "cell_type": "markdown",
      "metadata": {
        "id": "PJRhgXMRZJMa"
      },
      "source": [
        "# Imports"
      ]
    },
    {
      "cell_type": "code",
      "metadata": {
        "id": "GMZej76fZPqZ"
      },
      "source": [
        "import os\n",
        "import json\n",
        "import urllib2\n",
        "import zipfile\n",
        "from pprint import pprint\n",
        "\n",
        "import numpy as np\n",
        "import tensorflow as tf\n",
        "import keras as k"
      ],
      "execution_count": null,
      "outputs": []
    },
    {
      "cell_type": "markdown",
      "metadata": {
        "id": "jHGhMhifVRNo"
      },
      "source": [
        "# Load data"
      ]
    },
    {
      "cell_type": "code",
      "metadata": {
        "id": "kueTfyY3Yht2"
      },
      "source": [
        "data_folder = 'data'\n",
        "\n",
        "if not os.path.exists(data_folder):\n",
        "  url = 'https://github.com/USC-Melady/KDD19-CoSTCo/releases/download/demo_data/data.zip'\n",
        "  filedata = urllib2.urlopen(url)\n",
        "\n",
        "  with open('data.zip', 'wb') as f:\n",
        "      f.write(filedata.read())\n",
        "\n",
        "  with zipfile.ZipFile('data.zip', 'r') as f:\n",
        "    f.extractall('.')"
      ],
      "execution_count": null,
      "outputs": []
    },
    {
      "cell_type": "code",
      "metadata": {
        "id": "-Ilig1cCVRNp"
      },
      "source": [
        "shape = np.loadtxt(os.path.join(data_folder, 'tensor_shape.txt')).astype(int)\n",
        "tr_idxs = np.loadtxt(os.path.join(data_folder, 'train_indices.txt')).astype(int)\n",
        "tr_vals = np.loadtxt(os.path.join(data_folder, 'train_values.txt'))\n",
        "te_idxs = np.loadtxt(os.path.join(data_folder, 'test_indices.txt')).astype(int)\n",
        "te_vals = np.loadtxt(os.path.join(data_folder, 'test_values.txt'))"
      ],
      "execution_count": null,
      "outputs": []
    },
    {
      "cell_type": "markdown",
      "metadata": {
        "id": "AB4BuZRbVRNY"
      },
      "source": [
        "# Define util functions"
      ]
    },
    {
      "cell_type": "code",
      "metadata": {
        "id": "4MmoK-zQVRNZ"
      },
      "source": [
        "def mape_keras(y_true, y_pred, threshold=0.1):\n",
        "    v = k.backend.clip(k.backend.abs(y_true), threshold, None)\n",
        "    diff = k.backend.abs((y_true - y_pred) / v)\n",
        "    return 100.0 * k.backend.mean(diff, axis=-1)\n",
        "\n",
        "def mae(y_true, y_pred):\n",
        "    return np.mean(np.abs(y_pred - y_true))\n",
        "\n",
        "def rmse(y_true, y_pred):\n",
        "    return np.sqrt(np.mean(np.square(y_pred - y_true)))\n",
        "\n",
        "def mape(y_true, y_pred, threshold=0.1):\n",
        "    v = np.clip(np.abs(y_true), threshold, None)\n",
        "    diff = np.abs((y_true - y_pred) / v)\n",
        "    return 100.0 * np.mean(diff, axis=-1).mean()\n",
        "\n",
        "def transform(idxs):\n",
        "    return [idxs[:, i] for i in range(idxs.shape[1])]\n",
        "\n",
        "def set_session(device_count=None, seed=0):\n",
        "    gpu_options = tf.GPUOptions(allow_growth=True)\n",
        "    if device_count is not None:\n",
        "        config = tf.ConfigProto(\n",
        "            gpu_options=gpu_options,\n",
        "            device_count=device_count\n",
        "        )\n",
        "    else:\n",
        "        config = tf.ConfigProto(gpu_options=gpu_options)\n",
        "    sess = tf.Session(config=config)\n",
        "    k.backend.set_session(sess)\n",
        "\n",
        "    np.random.seed(seed)\n",
        "    tf.set_random_seed(seed)\n",
        "    return sess\n",
        "\n",
        "def get_metrics(model, x, y, batch_size=1024):\n",
        "    yp = model.predict(x, batch_size=batch_size, verbose=1).flatten()\n",
        "    return {\n",
        "        \"rmse\": float(rmse(y, yp)),\n",
        "        \"mape\": float(mape(y, yp)),\n",
        "        \"mae\": float(mae(y, yp))\n",
        "    }"
      ],
      "execution_count": null,
      "outputs": []
    },
    {
      "cell_type": "markdown",
      "metadata": {
        "id": "Xim4s-ziVRNg"
      },
      "source": [
        "# Create a CoSTCo model"
      ]
    },
    {
      "cell_type": "code",
      "metadata": {
        "id": "Ci6JG9m9VRNh"
      },
      "source": [
        "def create_costco(shape, rank, nc):\n",
        "    inputs = [k.Input(shape=(1,), dtype=\"int32\") for i in range(len(shape))]\n",
        "    embeds = [\n",
        "        k.layers.Embedding(output_dim=rank, input_dim=shape[i])(inputs[i])\n",
        "        for i in range(len(shape))\n",
        "    ]\n",
        "    x = k.layers.Concatenate(axis=1)(embeds)\n",
        "    x = k.layers.Reshape(target_shape=(rank, len(shape), 1))(x)\n",
        "    x = k.layers.Conv2D(\n",
        "        nc,\n",
        "        kernel_size=(1, len(shape)),\n",
        "        activation=\"relu\",\n",
        "        padding=\"valid\"\n",
        "    )(x)\n",
        "    x = k.layers.Conv2D(\n",
        "        nc,\n",
        "        kernel_size=(rank, 1),\n",
        "        activation=\"relu\",\n",
        "        padding=\"valid\"\n",
        "    )(x)\n",
        "    x = k.layers.Flatten()(x)\n",
        "    x = k.layers.Dense(nc, activation=\"relu\")(x)\n",
        "    outputs = k.layers.Dense(1, activation=\"relu\")(x)\n",
        "    model = k.Model(inputs=inputs, outputs=outputs)\n",
        "\n",
        "    return model"
      ],
      "execution_count": null,
      "outputs": []
    },
    {
      "cell_type": "markdown",
      "metadata": {
        "id": "eQ_cVComVRNk"
      },
      "source": [
        "# Set hyper-parameters"
      ]
    },
    {
      "cell_type": "code",
      "metadata": {
        "id": "ZsdsNRmEVRNl"
      },
      "source": [
        "lr = 1e-4\n",
        "rank = 20\n",
        "nc = rank\n",
        "epochs = 50\n",
        "batch_size = 256\n",
        "\n",
        "seed = 3\n",
        "verbose = 1"
      ],
      "execution_count": null,
      "outputs": []
    },
    {
      "cell_type": "markdown",
      "metadata": {
        "id": "6lQi9W2OVRNr"
      },
      "source": [
        "# Train with early stopping"
      ]
    },
    {
      "cell_type": "code",
      "metadata": {
        "id": "JzRKa3PvVRNs"
      },
      "source": [
        "set_session(device_count={\"GPU\": 0}, seed=seed)\n",
        "optim = k.optimizers.Adam(lr=lr)\n",
        "\n",
        "model = create_costco(shape, rank, nc)\n",
        "model.compile(optim, loss=[\"mse\"], metrics=[\"mae\", mape_keras])\n",
        "hists = model.fit(\n",
        "    x=transform(tr_idxs),\n",
        "    y=tr_vals,\n",
        "    verbose=verbose,\n",
        "    epochs=epochs,\n",
        "    batch_size=batch_size,\n",
        "    validation_split=0.1,\n",
        "    callbacks=[k.callbacks.EarlyStopping(\n",
        "        monitor=\"val_mean_absolute_error\",\n",
        "        patience=10,\n",
        "        restore_best_weights=True)],\n",
        ");"
      ],
      "execution_count": null,
      "outputs": []
    },
    {
      "cell_type": "markdown",
      "metadata": {
        "id": "_1bLRaV1VRNx"
      },
      "source": [
        "# Evaluation model prediction over the test set"
      ]
    },
    {
      "cell_type": "code",
      "metadata": {
        "id": "4Zi71CQmVRNx"
      },
      "source": [
        "tr_info = get_metrics(model, transform(tr_idxs), tr_vals)\n",
        "te_info = get_metrics(model, transform(te_idxs), te_vals)"
      ],
      "execution_count": null,
      "outputs": []
    },
    {
      "cell_type": "code",
      "metadata": {
        "id": "_RT8lnIlXtsx"
      },
      "source": [
        "pprint({'train': tr_info, 'test': te_info})"
      ],
      "execution_count": null,
      "outputs": []
    },
    {
      "cell_type": "code",
      "source": [
        "from google.colab import drive\n",
        "drive.mount('/content/drive')"
      ],
      "metadata": {
        "colab": {
          "base_uri": "https://localhost:8080/"
        },
        "id": "OHwbHLfq7qir",
        "outputId": "470b1356-d8e1-4fb9-d2a4-221cf079e630"
      },
      "execution_count": 3,
      "outputs": [
        {
          "output_type": "stream",
          "name": "stdout",
          "text": [
            "Drive already mounted at /content/drive; to attempt to forcibly remount, call drive.mount(\"/content/drive\", force_remount=True).\n"
          ]
        }
      ]
    },
    {
      "cell_type": "code",
      "source": [
        "pip install torch_geometric"
      ],
      "metadata": {
        "colab": {
          "base_uri": "https://localhost:8080/"
        },
        "id": "UzbIu9IP7sq7",
        "outputId": "7635e59b-2adb-4a7b-d57d-c7a348b70230"
      },
      "execution_count": 4,
      "outputs": [
        {
          "output_type": "stream",
          "name": "stdout",
          "text": [
            "Requirement already satisfied: torch_geometric in /usr/local/lib/python3.11/dist-packages (2.6.1)\n",
            "Requirement already satisfied: aiohttp in /usr/local/lib/python3.11/dist-packages (from torch_geometric) (3.11.13)\n",
            "Requirement already satisfied: fsspec in /usr/local/lib/python3.11/dist-packages (from torch_geometric) (2024.10.0)\n",
            "Requirement already satisfied: jinja2 in /usr/local/lib/python3.11/dist-packages (from torch_geometric) (3.1.6)\n",
            "Requirement already satisfied: numpy in /usr/local/lib/python3.11/dist-packages (from torch_geometric) (2.0.2)\n",
            "Requirement already satisfied: psutil>=5.8.0 in /usr/local/lib/python3.11/dist-packages (from torch_geometric) (5.9.5)\n",
            "Requirement already satisfied: pyparsing in /usr/local/lib/python3.11/dist-packages (from torch_geometric) (3.2.1)\n",
            "Requirement already satisfied: requests in /usr/local/lib/python3.11/dist-packages (from torch_geometric) (2.32.3)\n",
            "Requirement already satisfied: tqdm in /usr/local/lib/python3.11/dist-packages (from torch_geometric) (4.67.1)\n",
            "Requirement already satisfied: aiohappyeyeballs>=2.3.0 in /usr/local/lib/python3.11/dist-packages (from aiohttp->torch_geometric) (2.6.1)\n",
            "Requirement already satisfied: aiosignal>=1.1.2 in /usr/local/lib/python3.11/dist-packages (from aiohttp->torch_geometric) (1.3.2)\n",
            "Requirement already satisfied: attrs>=17.3.0 in /usr/local/lib/python3.11/dist-packages (from aiohttp->torch_geometric) (25.3.0)\n",
            "Requirement already satisfied: frozenlist>=1.1.1 in /usr/local/lib/python3.11/dist-packages (from aiohttp->torch_geometric) (1.5.0)\n",
            "Requirement already satisfied: multidict<7.0,>=4.5 in /usr/local/lib/python3.11/dist-packages (from aiohttp->torch_geometric) (6.1.0)\n",
            "Requirement already satisfied: propcache>=0.2.0 in /usr/local/lib/python3.11/dist-packages (from aiohttp->torch_geometric) (0.3.0)\n",
            "Requirement already satisfied: yarl<2.0,>=1.17.0 in /usr/local/lib/python3.11/dist-packages (from aiohttp->torch_geometric) (1.18.3)\n",
            "Requirement already satisfied: MarkupSafe>=2.0 in /usr/local/lib/python3.11/dist-packages (from jinja2->torch_geometric) (3.0.2)\n",
            "Requirement already satisfied: charset-normalizer<4,>=2 in /usr/local/lib/python3.11/dist-packages (from requests->torch_geometric) (3.4.1)\n",
            "Requirement already satisfied: idna<4,>=2.5 in /usr/local/lib/python3.11/dist-packages (from requests->torch_geometric) (3.10)\n",
            "Requirement already satisfied: urllib3<3,>=1.21.1 in /usr/local/lib/python3.11/dist-packages (from requests->torch_geometric) (2.3.0)\n",
            "Requirement already satisfied: certifi>=2017.4.17 in /usr/local/lib/python3.11/dist-packages (from requests->torch_geometric) (2025.1.31)\n"
          ]
        }
      ]
    },
    {
      "cell_type": "code",
      "source": [
        "pip install torch-scatter"
      ],
      "metadata": {
        "colab": {
          "base_uri": "https://localhost:8080/"
        },
        "id": "4rrG5tl-7uFn",
        "outputId": "f23cac04-c728-43a6-ca81-07dbee997d3b"
      },
      "execution_count": 5,
      "outputs": [
        {
          "output_type": "stream",
          "name": "stdout",
          "text": [
            "Requirement already satisfied: torch-scatter in /usr/local/lib/python3.11/dist-packages (2.1.2)\n"
          ]
        }
      ]
    },
    {
      "cell_type": "code",
      "source": [
        "pip install rdkit"
      ],
      "metadata": {
        "colab": {
          "base_uri": "https://localhost:8080/"
        },
        "id": "SchtT6na7vcv",
        "outputId": "1e1a8bda-15ef-42d6-d130-d1bda10c2ab2"
      },
      "execution_count": 6,
      "outputs": [
        {
          "output_type": "stream",
          "name": "stdout",
          "text": [
            "Requirement already satisfied: rdkit in /usr/local/lib/python3.11/dist-packages (2024.9.6)\n",
            "Requirement already satisfied: numpy in /usr/local/lib/python3.11/dist-packages (from rdkit) (2.0.2)\n",
            "Requirement already satisfied: Pillow in /usr/local/lib/python3.11/dist-packages (from rdkit) (11.1.0)\n"
          ]
        }
      ]
    },
    {
      "cell_type": "code",
      "source": [
        "pip install xlrd"
      ],
      "metadata": {
        "colab": {
          "base_uri": "https://localhost:8080/"
        },
        "id": "V_mkN75w7xBv",
        "outputId": "657579a5-04c0-4df4-dd8e-adca7152547a"
      },
      "execution_count": 7,
      "outputs": [
        {
          "output_type": "stream",
          "name": "stdout",
          "text": [
            "Requirement already satisfied: xlrd in /usr/local/lib/python3.11/dist-packages (2.0.1)\n"
          ]
        }
      ]
    },
    {
      "cell_type": "code",
      "source": [
        "cd '/content/drive/MyDrive/MIDCN'"
      ],
      "metadata": {
        "colab": {
          "base_uri": "https://localhost:8080/"
        },
        "id": "pM2EAneD7yfg",
        "outputId": "24b49841-1dfb-4793-a730-f567ba21990a"
      },
      "execution_count": 1,
      "outputs": [
        {
          "output_type": "stream",
          "name": "stdout",
          "text": [
            "/content/drive/MyDrive/MIDCN\n"
          ]
        }
      ]
    },
    {
      "cell_type": "code",
      "source": [
        "run main.py"
      ],
      "metadata": {
        "colab": {
          "base_uri": "https://localhost:8080/",
          "height": 316
        },
        "id": "R1naR_a570Dw",
        "outputId": "c64655f8-46f1-4750-b917-409800c204e9"
      },
      "execution_count": 2,
      "outputs": [
        {
          "output_type": "error",
          "ename": "TypeError",
          "evalue": "can't convert cuda:0 device type tensor to numpy. Use Tensor.cpu() to copy the tensor to host memory first.",
          "traceback": [
            "\u001b[0;31m---------------------------------------------------------------------------\u001b[0m",
            "\u001b[0;31mTypeError\u001b[0m                                 Traceback (most recent call last)",
            "\u001b[0;32m/content/drive/MyDrive/MIDCN/main.py\u001b[0m in \u001b[0;36m<module>\u001b[0;34m\u001b[0m\n\u001b[1;32m    288\u001b[0m     \u001b[0margs\u001b[0m \u001b[0;34m=\u001b[0m \u001b[0mparser\u001b[0m\u001b[0;34m.\u001b[0m\u001b[0mparse_args\u001b[0m\u001b[0;34m(\u001b[0m\u001b[0;34m)\u001b[0m\u001b[0;34m.\u001b[0m\u001b[0m__dict__\u001b[0m\u001b[0;34m\u001b[0m\u001b[0;34m\u001b[0m\u001b[0m\n\u001b[1;32m    289\u001b[0m     \u001b[0margs\u001b[0m \u001b[0;34m=\u001b[0m \u001b[0msetup\u001b[0m\u001b[0;34m(\u001b[0m\u001b[0margs\u001b[0m\u001b[0;34m)\u001b[0m\u001b[0;34m\u001b[0m\u001b[0;34m\u001b[0m\u001b[0m\n\u001b[0;32m--> 290\u001b[0;31m     \u001b[0mmain\u001b[0m\u001b[0;34m(\u001b[0m\u001b[0margs\u001b[0m\u001b[0;34m)\u001b[0m\u001b[0;34m\u001b[0m\u001b[0;34m\u001b[0m\u001b[0m\n\u001b[0m",
            "\u001b[0;32m/content/drive/MyDrive/MIDCN/main.py\u001b[0m in \u001b[0;36mmain\u001b[0;34m(args)\u001b[0m\n\u001b[1;32m    102\u001b[0m     \u001b[0;31m# Initialize device and load data\u001b[0m\u001b[0;34m\u001b[0m\u001b[0;34m\u001b[0m\u001b[0m\n\u001b[1;32m    103\u001b[0m     \u001b[0mdevice\u001b[0m \u001b[0;34m=\u001b[0m \u001b[0mtorch\u001b[0m\u001b[0;34m.\u001b[0m\u001b[0mdevice\u001b[0m\u001b[0;34m(\u001b[0m\u001b[0;34m\"cuda\"\u001b[0m \u001b[0;32mif\u001b[0m \u001b[0mtorch\u001b[0m\u001b[0;34m.\u001b[0m\u001b[0mcuda\u001b[0m\u001b[0;34m.\u001b[0m\u001b[0mis_available\u001b[0m\u001b[0;34m(\u001b[0m\u001b[0;34m)\u001b[0m \u001b[0;32melse\u001b[0m \u001b[0;34m\"cpu\"\u001b[0m\u001b[0;34m)\u001b[0m\u001b[0;34m\u001b[0m\u001b[0;34m\u001b[0m\u001b[0m\n\u001b[0;32m--> 104\u001b[0;31m     \u001b[0mdrug_microbe_disease_list\u001b[0m\u001b[0;34m,\u001b[0m \u001b[0mneg_drug_microbe_disease_list\u001b[0m\u001b[0;34m,\u001b[0m \u001b[0mall_node_features\u001b[0m\u001b[0;34m,\u001b[0m \u001b[0mhetero_graph\u001b[0m\u001b[0;34m,\u001b[0m \u001b[0mdrug_id\u001b[0m\u001b[0;34m,\u001b[0m \u001b[0mmicrobe_id\u001b[0m\u001b[0;34m,\u001b[0m \u001b[0mdisease_id\u001b[0m\u001b[0;34m,\u001b[0m \u001b[0munique_drug_id\u001b[0m\u001b[0;34m,\u001b[0m \u001b[0munique_microbe_id\u001b[0m\u001b[0;34m,\u001b[0m \u001b[0munique_disease_id\u001b[0m \u001b[0;34m=\u001b[0m \u001b[0mload_drug_data\u001b[0m\u001b[0;34m(\u001b[0m\u001b[0mdevice\u001b[0m\u001b[0;34m)\u001b[0m\u001b[0;34m\u001b[0m\u001b[0;34m\u001b[0m\u001b[0m\n\u001b[0m\u001b[1;32m    105\u001b[0m \u001b[0;34m\u001b[0m\u001b[0m\n\u001b[1;32m    106\u001b[0m     \u001b[0mdrug_microbe_disease_tensor\u001b[0m \u001b[0;34m=\u001b[0m \u001b[0mtorch\u001b[0m\u001b[0;34m.\u001b[0m\u001b[0mtensor\u001b[0m\u001b[0;34m(\u001b[0m\u001b[0mdrug_microbe_disease_list\u001b[0m\u001b[0;34m,\u001b[0m \u001b[0mdtype\u001b[0m\u001b[0;34m=\u001b[0m\u001b[0mtorch\u001b[0m\u001b[0;34m.\u001b[0m\u001b[0mlong\u001b[0m\u001b[0;34m)\u001b[0m\u001b[0;34m.\u001b[0m\u001b[0mview\u001b[0m\u001b[0;34m(\u001b[0m\u001b[0;34m-\u001b[0m\u001b[0;36m1\u001b[0m\u001b[0;34m,\u001b[0m \u001b[0;36m3\u001b[0m\u001b[0;34m)\u001b[0m\u001b[0;34m.\u001b[0m\u001b[0mto\u001b[0m\u001b[0;34m(\u001b[0m\u001b[0mdevice\u001b[0m\u001b[0;34m)\u001b[0m\u001b[0;34m\u001b[0m\u001b[0;34m\u001b[0m\u001b[0m\n",
            "\u001b[0;32m/content/drive/MyDrive/MIDCN/util.py\u001b[0m in \u001b[0;36mload_drug_data\u001b[0;34m(device)\u001b[0m\n\u001b[1;32m    181\u001b[0m     \u001b[0medge_index\u001b[0m\u001b[0;34m=\u001b[0m\u001b[0medge_index\u001b[0m\u001b[0;34m.\u001b[0m\u001b[0mto\u001b[0m\u001b[0;34m(\u001b[0m\u001b[0mdevice\u001b[0m\u001b[0;34m)\u001b[0m\u001b[0;34m\u001b[0m\u001b[0;34m\u001b[0m\u001b[0m\n\u001b[1;32m    182\u001b[0m \u001b[0;34m\u001b[0m\u001b[0m\n\u001b[0;32m--> 183\u001b[0;31m     \u001b[0mlabels_np\u001b[0m \u001b[0;34m=\u001b[0m \u001b[0medge_index\u001b[0m\u001b[0;34m.\u001b[0m\u001b[0mnumpy\u001b[0m\u001b[0;34m(\u001b[0m\u001b[0;34m)\u001b[0m\u001b[0;34m\u001b[0m\u001b[0;34m\u001b[0m\u001b[0m\n\u001b[0m\u001b[1;32m    184\u001b[0m \u001b[0;34m\u001b[0m\u001b[0m\n\u001b[1;32m    185\u001b[0m \u001b[0;34m\u001b[0m\u001b[0m\n",
            "\u001b[0;31mTypeError\u001b[0m: can't convert cuda:0 device type tensor to numpy. Use Tensor.cpu() to copy the tensor to host memory first."
          ]
        }
      ]
    }
  ]
}